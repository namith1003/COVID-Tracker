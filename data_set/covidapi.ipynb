{
 "cells": [
  {
   "cell_type": "code",
   "execution_count": 1,
   "source": [
    "import requests\r\n",
    "import json\r\n",
    "import pandas as pd\r\n",
    "import matplotlib.pyplot as plt\r\n",
    "\r\n",
    "# POST to API\r\n",
    "payload = {'code': 'ALL'} # or {'code': 'DE'}\r\n",
    "URL = 'https://api.statworx.com/covid'\r\n",
    "response = requests.post(url=URL, data=json.dumps(payload)) #dumps convert python object into string\r\n",
    "\r\n",
    "# Convert to data frame\r\n",
    "df = pd.DataFrame.from_dict(json.loads(response.text)) #loads used to parse a valid JSON string and convert it into a Python Dictionary.\r\n",
    "print(df.head())"
   ],
   "outputs": [
    {
     "output_type": "stream",
     "name": "stdout",
     "text": [
      "         date day month  year  cases  deaths      country code  population  \\\n",
      "0  2019-12-31  31    12  2019      0       0  Afghanistan   AF  38041757.0   \n",
      "1  2020-01-01  01    01  2020      0       0  Afghanistan   AF  38041757.0   \n",
      "2  2020-01-02  02    01  2020      0       0  Afghanistan   AF  38041757.0   \n",
      "3  2020-01-03  03    01  2020      0       0  Afghanistan   AF  38041757.0   \n",
      "4  2020-01-04  04    01  2020      0       0  Afghanistan   AF  38041757.0   \n",
      "\n",
      "  continent  cases_cum  deaths_cum  \n",
      "0      Asia          0           0  \n",
      "1      Asia          0           0  \n",
      "2      Asia          0           0  \n",
      "3      Asia          0           0  \n",
      "4      Asia          0           0  \n"
     ]
    }
   ],
   "metadata": {}
  },
  {
   "cell_type": "code",
   "execution_count": 2,
   "source": [
    "# Wrangle Data frame\r\n",
    "group = {'cases': ['sum'], 'deaths': ['sum']}\r\n",
    "df2 = df.groupby(['country']).agg(group)\r\n",
    "df2 = df2.reset_index()\r\n",
    "df2.columns = df2.columns.droplevel(1)\r\n",
    "df2"
   ],
   "outputs": [
    {
     "output_type": "execute_result",
     "data": {
      "text/html": [
       "<div>\n",
       "<style scoped>\n",
       "    .dataframe tbody tr th:only-of-type {\n",
       "        vertical-align: middle;\n",
       "    }\n",
       "\n",
       "    .dataframe tbody tr th {\n",
       "        vertical-align: top;\n",
       "    }\n",
       "\n",
       "    .dataframe thead th {\n",
       "        text-align: right;\n",
       "    }\n",
       "</style>\n",
       "<table border=\"1\" class=\"dataframe\">\n",
       "  <thead>\n",
       "    <tr style=\"text-align: right;\">\n",
       "      <th></th>\n",
       "      <th>country</th>\n",
       "      <th>cases</th>\n",
       "      <th>deaths</th>\n",
       "    </tr>\n",
       "  </thead>\n",
       "  <tbody>\n",
       "    <tr>\n",
       "      <th>0</th>\n",
       "      <td>Afghanistan</td>\n",
       "      <td>49273</td>\n",
       "      <td>1971</td>\n",
       "    </tr>\n",
       "    <tr>\n",
       "      <th>1</th>\n",
       "      <td>Albania</td>\n",
       "      <td>48530</td>\n",
       "      <td>1003</td>\n",
       "    </tr>\n",
       "    <tr>\n",
       "      <th>2</th>\n",
       "      <td>Algeria</td>\n",
       "      <td>92102</td>\n",
       "      <td>2596</td>\n",
       "    </tr>\n",
       "    <tr>\n",
       "      <th>3</th>\n",
       "      <td>Andorra</td>\n",
       "      <td>7338</td>\n",
       "      <td>79</td>\n",
       "    </tr>\n",
       "    <tr>\n",
       "      <th>4</th>\n",
       "      <td>Angola</td>\n",
       "      <td>16188</td>\n",
       "      <td>371</td>\n",
       "    </tr>\n",
       "    <tr>\n",
       "      <th>...</th>\n",
       "      <td>...</td>\n",
       "      <td>...</td>\n",
       "      <td>...</td>\n",
       "    </tr>\n",
       "    <tr>\n",
       "      <th>209</th>\n",
       "      <td>Wallis_and_Futuna</td>\n",
       "      <td>3</td>\n",
       "      <td>0</td>\n",
       "    </tr>\n",
       "    <tr>\n",
       "      <th>210</th>\n",
       "      <td>Western_Sahara</td>\n",
       "      <td>766</td>\n",
       "      <td>1</td>\n",
       "    </tr>\n",
       "    <tr>\n",
       "      <th>211</th>\n",
       "      <td>Yemen</td>\n",
       "      <td>2083</td>\n",
       "      <td>606</td>\n",
       "    </tr>\n",
       "    <tr>\n",
       "      <th>212</th>\n",
       "      <td>Zambia</td>\n",
       "      <td>18274</td>\n",
       "      <td>367</td>\n",
       "    </tr>\n",
       "    <tr>\n",
       "      <th>213</th>\n",
       "      <td>Zimbabwe</td>\n",
       "      <td>11246</td>\n",
       "      <td>307</td>\n",
       "    </tr>\n",
       "  </tbody>\n",
       "</table>\n",
       "<p>214 rows × 3 columns</p>\n",
       "</div>"
      ],
      "text/plain": [
       "               country  cases  deaths\n",
       "0          Afghanistan  49273    1971\n",
       "1              Albania  48530    1003\n",
       "2              Algeria  92102    2596\n",
       "3              Andorra   7338      79\n",
       "4               Angola  16188     371\n",
       "..                 ...    ...     ...\n",
       "209  Wallis_and_Futuna      3       0\n",
       "210     Western_Sahara    766       1\n",
       "211              Yemen   2083     606\n",
       "212             Zambia  18274     367\n",
       "213           Zimbabwe  11246     307\n",
       "\n",
       "[214 rows x 3 columns]"
      ]
     },
     "metadata": {},
     "execution_count": 2
    }
   ],
   "metadata": {}
  },
  {
   "cell_type": "code",
   "execution_count": 3,
   "source": [
    "# Get desired countries from user\r\n",
    "countries = []\r\n",
    "stop = False\r\n",
    "while not stop:\r\n",
    "    user_input = str(input(\"Enter country or Enter Q to quit: \"))\r\n",
    "    if user_input.lower() == \"Q\".lower():\r\n",
    "        stop = True\r\n",
    "    else: \r\n",
    "        countries.append(user_input) \r\n",
    "print(countries)\r\n",
    "plot_df = df2[df2['country'].isin(countries)]\r\n",
    "plot_df"
   ],
   "outputs": [
    {
     "output_type": "stream",
     "name": "stdout",
     "text": [
      "['Albania']\n"
     ]
    },
    {
     "output_type": "execute_result",
     "data": {
      "text/html": [
       "<div>\n",
       "<style scoped>\n",
       "    .dataframe tbody tr th:only-of-type {\n",
       "        vertical-align: middle;\n",
       "    }\n",
       "\n",
       "    .dataframe tbody tr th {\n",
       "        vertical-align: top;\n",
       "    }\n",
       "\n",
       "    .dataframe thead th {\n",
       "        text-align: right;\n",
       "    }\n",
       "</style>\n",
       "<table border=\"1\" class=\"dataframe\">\n",
       "  <thead>\n",
       "    <tr style=\"text-align: right;\">\n",
       "      <th></th>\n",
       "      <th>country</th>\n",
       "      <th>cases</th>\n",
       "      <th>deaths</th>\n",
       "    </tr>\n",
       "  </thead>\n",
       "  <tbody>\n",
       "    <tr>\n",
       "      <th>1</th>\n",
       "      <td>Albania</td>\n",
       "      <td>48530</td>\n",
       "      <td>1003</td>\n",
       "    </tr>\n",
       "  </tbody>\n",
       "</table>\n",
       "</div>"
      ],
      "text/plain": [
       "   country  cases  deaths\n",
       "1  Albania  48530    1003"
      ]
     },
     "metadata": {},
     "execution_count": 3
    }
   ],
   "metadata": {}
  },
  {
   "cell_type": "code",
   "execution_count": 4,
   "source": [
    "# Plot Bar Graph\r\n",
    "plot_df.plot.bar(x = 'country', y = ['cases', 'deaths'], rot=90)\r\n",
    "plt.xlabel(\"Countries\")\r\n",
    "plt.ylabel(\"Total Cases\")"
   ],
   "outputs": [
    {
     "output_type": "execute_result",
     "data": {
      "text/plain": [
       "Text(0, 0.5, 'Total Cases')"
      ]
     },
     "metadata": {},
     "execution_count": 4
    },
    {
     "output_type": "display_data",
     "data": {
      "image/png": "[encoded data removed]",
      "text/plain": [
       "<Figure size 432x288 with 1 Axes>"
      ]
     },
     "metadata": {
      "needs_background": "light"
     }
    }
   ],
   "metadata": {}
  },
  {
   "cell_type": "code",
   "execution_count": 5,
   "source": [
    "\r\n",
    "group = {'cases': ['sum'], 'deaths': ['sum']}\r\n",
    "df = df.groupby(['country']).agg(group)\r\n",
    "df"
   ],
   "outputs": [
    {
     "output_type": "execute_result",
     "data": {
      "text/html": [
       "<div>\n",
       "<style scoped>\n",
       "    .dataframe tbody tr th:only-of-type {\n",
       "        vertical-align: middle;\n",
       "    }\n",
       "\n",
       "    .dataframe tbody tr th {\n",
       "        vertical-align: top;\n",
       "    }\n",
       "\n",
       "    .dataframe thead tr th {\n",
       "        text-align: left;\n",
       "    }\n",
       "\n",
       "    .dataframe thead tr:last-of-type th {\n",
       "        text-align: right;\n",
       "    }\n",
       "</style>\n",
       "<table border=\"1\" class=\"dataframe\">\n",
       "  <thead>\n",
       "    <tr>\n",
       "      <th></th>\n",
       "      <th>cases</th>\n",
       "      <th>deaths</th>\n",
       "    </tr>\n",
       "    <tr>\n",
       "      <th></th>\n",
       "      <th>sum</th>\n",
       "      <th>sum</th>\n",
       "    </tr>\n",
       "    <tr>\n",
       "      <th>country</th>\n",
       "      <th></th>\n",
       "      <th></th>\n",
       "    </tr>\n",
       "  </thead>\n",
       "  <tbody>\n",
       "    <tr>\n",
       "      <th>Afghanistan</th>\n",
       "      <td>49273</td>\n",
       "      <td>1971</td>\n",
       "    </tr>\n",
       "    <tr>\n",
       "      <th>Albania</th>\n",
       "      <td>48530</td>\n",
       "      <td>1003</td>\n",
       "    </tr>\n",
       "    <tr>\n",
       "      <th>Algeria</th>\n",
       "      <td>92102</td>\n",
       "      <td>2596</td>\n",
       "    </tr>\n",
       "    <tr>\n",
       "      <th>Andorra</th>\n",
       "      <td>7338</td>\n",
       "      <td>79</td>\n",
       "    </tr>\n",
       "    <tr>\n",
       "      <th>Angola</th>\n",
       "      <td>16188</td>\n",
       "      <td>371</td>\n",
       "    </tr>\n",
       "    <tr>\n",
       "      <th>...</th>\n",
       "      <td>...</td>\n",
       "      <td>...</td>\n",
       "    </tr>\n",
       "    <tr>\n",
       "      <th>Wallis_and_Futuna</th>\n",
       "      <td>3</td>\n",
       "      <td>0</td>\n",
       "    </tr>\n",
       "    <tr>\n",
       "      <th>Western_Sahara</th>\n",
       "      <td>766</td>\n",
       "      <td>1</td>\n",
       "    </tr>\n",
       "    <tr>\n",
       "      <th>Yemen</th>\n",
       "      <td>2083</td>\n",
       "      <td>606</td>\n",
       "    </tr>\n",
       "    <tr>\n",
       "      <th>Zambia</th>\n",
       "      <td>18274</td>\n",
       "      <td>367</td>\n",
       "    </tr>\n",
       "    <tr>\n",
       "      <th>Zimbabwe</th>\n",
       "      <td>11246</td>\n",
       "      <td>307</td>\n",
       "    </tr>\n",
       "  </tbody>\n",
       "</table>\n",
       "<p>214 rows × 2 columns</p>\n",
       "</div>"
      ],
      "text/plain": [
       "                   cases deaths\n",
       "                     sum    sum\n",
       "country                        \n",
       "Afghanistan        49273   1971\n",
       "Albania            48530   1003\n",
       "Algeria            92102   2596\n",
       "Andorra             7338     79\n",
       "Angola             16188    371\n",
       "...                  ...    ...\n",
       "Wallis_and_Futuna      3      0\n",
       "Western_Sahara       766      1\n",
       "Yemen               2083    606\n",
       "Zambia             18274    367\n",
       "Zimbabwe           11246    307\n",
       "\n",
       "[214 rows x 2 columns]"
      ]
     },
     "metadata": {},
     "execution_count": 5
    }
   ],
   "metadata": {}
  },
  {
   "cell_type": "code",
   "execution_count": 6,
   "source": [
    "df['country']='Angola'\r\n",
    "df.head()"
   ],
   "outputs": [
    {
     "output_type": "execute_result",
     "data": {
      "text/html": [
       "<div>\n",
       "<style scoped>\n",
       "    .dataframe tbody tr th:only-of-type {\n",
       "        vertical-align: middle;\n",
       "    }\n",
       "\n",
       "    .dataframe tbody tr th {\n",
       "        vertical-align: top;\n",
       "    }\n",
       "\n",
       "    .dataframe thead tr th {\n",
       "        text-align: left;\n",
       "    }\n",
       "\n",
       "    .dataframe thead tr:last-of-type th {\n",
       "        text-align: right;\n",
       "    }\n",
       "</style>\n",
       "<table border=\"1\" class=\"dataframe\">\n",
       "  <thead>\n",
       "    <tr>\n",
       "      <th></th>\n",
       "      <th>cases</th>\n",
       "      <th>deaths</th>\n",
       "      <th>country</th>\n",
       "    </tr>\n",
       "    <tr>\n",
       "      <th></th>\n",
       "      <th>sum</th>\n",
       "      <th>sum</th>\n",
       "      <th></th>\n",
       "    </tr>\n",
       "    <tr>\n",
       "      <th>country</th>\n",
       "      <th></th>\n",
       "      <th></th>\n",
       "      <th></th>\n",
       "    </tr>\n",
       "  </thead>\n",
       "  <tbody>\n",
       "    <tr>\n",
       "      <th>Afghanistan</th>\n",
       "      <td>49273</td>\n",
       "      <td>1971</td>\n",
       "      <td>Angola</td>\n",
       "    </tr>\n",
       "    <tr>\n",
       "      <th>Albania</th>\n",
       "      <td>48530</td>\n",
       "      <td>1003</td>\n",
       "      <td>Angola</td>\n",
       "    </tr>\n",
       "    <tr>\n",
       "      <th>Algeria</th>\n",
       "      <td>92102</td>\n",
       "      <td>2596</td>\n",
       "      <td>Angola</td>\n",
       "    </tr>\n",
       "    <tr>\n",
       "      <th>Andorra</th>\n",
       "      <td>7338</td>\n",
       "      <td>79</td>\n",
       "      <td>Angola</td>\n",
       "    </tr>\n",
       "    <tr>\n",
       "      <th>Angola</th>\n",
       "      <td>16188</td>\n",
       "      <td>371</td>\n",
       "      <td>Angola</td>\n",
       "    </tr>\n",
       "  </tbody>\n",
       "</table>\n",
       "</div>"
      ],
      "text/plain": [
       "             cases deaths country\n",
       "               sum    sum        \n",
       "country                          \n",
       "Afghanistan  49273   1971  Angola\n",
       "Albania      48530   1003  Angola\n",
       "Algeria      92102   2596  Angola\n",
       "Andorra       7338     79  Angola\n",
       "Angola       16188    371  Angola"
      ]
     },
     "metadata": {},
     "execution_count": 6
    }
   ],
   "metadata": {}
  },
  {
   "cell_type": "code",
   "execution_count": 7,
   "source": [
    "df.keys"
   ],
   "outputs": [
    {
     "output_type": "execute_result",
     "data": {
      "text/plain": [
       "<bound method NDFrame.keys of                    cases deaths country\n",
       "                     sum    sum        \n",
       "country                                \n",
       "Afghanistan        49273   1971  Angola\n",
       "Albania            48530   1003  Angola\n",
       "Algeria            92102   2596  Angola\n",
       "Andorra             7338     79  Angola\n",
       "Angola             16188    371  Angola\n",
       "...                  ...    ...     ...\n",
       "Wallis_and_Futuna      3      0  Angola\n",
       "Western_Sahara       766      1  Angola\n",
       "Yemen               2083    606  Angola\n",
       "Zambia             18274    367  Angola\n",
       "Zimbabwe           11246    307  Angola\n",
       "\n",
       "[214 rows x 3 columns]>"
      ]
     },
     "metadata": {},
     "execution_count": 7
    }
   ],
   "metadata": {}
  },
  {
   "cell_type": "code",
   "execution_count": null,
   "source": [],
   "outputs": [],
   "metadata": {}
  },
  {
   "cell_type": "code",
   "execution_count": 8,
   "source": [
    "df.describe\r\n"
   ],
   "outputs": [
    {
     "output_type": "execute_result",
     "data": {
      "text/plain": [
       "<bound method NDFrame.describe of                    cases deaths country\n",
       "                     sum    sum        \n",
       "country                                \n",
       "Afghanistan        49273   1971  Angola\n",
       "Albania            48530   1003  Angola\n",
       "Algeria            92102   2596  Angola\n",
       "Andorra             7338     79  Angola\n",
       "Angola             16188    371  Angola\n",
       "...                  ...    ...     ...\n",
       "Wallis_and_Futuna      3      0  Angola\n",
       "Western_Sahara       766      1  Angola\n",
       "Yemen               2083    606  Angola\n",
       "Zambia             18274    367  Angola\n",
       "Zimbabwe           11246    307  Angola\n",
       "\n",
       "[214 rows x 3 columns]>"
      ]
     },
     "metadata": {},
     "execution_count": 8
    }
   ],
   "metadata": {}
  },
  {
   "cell_type": "code",
   "execution_count": 9,
   "source": [
    "df.keys"
   ],
   "outputs": [
    {
     "output_type": "execute_result",
     "data": {
      "text/plain": [
       "<bound method NDFrame.keys of                    cases deaths country\n",
       "                     sum    sum        \n",
       "country                                \n",
       "Afghanistan        49273   1971  Angola\n",
       "Albania            48530   1003  Angola\n",
       "Algeria            92102   2596  Angola\n",
       "Andorra             7338     79  Angola\n",
       "Angola             16188    371  Angola\n",
       "...                  ...    ...     ...\n",
       "Wallis_and_Futuna      3      0  Angola\n",
       "Western_Sahara       766      1  Angola\n",
       "Yemen               2083    606  Angola\n",
       "Zambia             18274    367  Angola\n",
       "Zimbabwe           11246    307  Angola\n",
       "\n",
       "[214 rows x 3 columns]>"
      ]
     },
     "metadata": {},
     "execution_count": 9
    }
   ],
   "metadata": {}
  },
  {
   "cell_type": "code",
   "execution_count": null,
   "source": [],
   "outputs": [],
   "metadata": {}
  }
 ],
 "metadata": {
  "orig_nbformat": 4,
  "language_info": {
   "name": "python",
   "version": "3.9.5",
   "mimetype": "text/x-python",
   "codemirror_mode": {
    "name": "ipython",
    "version": 3
   },
   "pygments_lexer": "ipython3",
   "nbconvert_exporter": "python",
   "file_extension": ".py"
  },
  "kernelspec": {
   "name": "python3",
   "display_name": "Python 3.9.5 64-bit"
  },
  "interpreter": {
   "hash": "9bb202ab933488e2c896d83b69c17805b7bfafa69657c445e6b48efb3750f8f0"
  }
 },
 "nbformat": 4,
 "nbformat_minor": 2
}