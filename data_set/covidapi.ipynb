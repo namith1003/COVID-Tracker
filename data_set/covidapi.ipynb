{
 "cells": [
  {
   "cell_type": "code",
   "execution_count": null,
   "source": [
    "import requests\r\n",
    "import json\r\n",
    "import pandas as pd\r\n",
    "\r\n",
    "# POST to API\r\n",
    "payload = {'code': 'ALL'} # or {'code': 'DE'}\r\n",
    "URL = 'https://api.statworx.com/covid'\r\n",
    "response = requests.post(url=URL, data=json.dumps(payload)) #dumps convert python object into string\r\n",
    "\r\n",
    "# Convert to data frame\r\n",
    "df = pd.DataFrame.from_dict(json.loads(response.text)) #loads used to parse a valid JSON string and convert it into a Python Dictionary.\r\n",
    "print(df.head())"
   ],
   "outputs": [],
   "metadata": {}
  }
 ],
 "metadata": {
  "orig_nbformat": 4,
  "language_info": {
   "name": "python"
  }
 },
 "nbformat": 4,
 "nbformat_minor": 2
}