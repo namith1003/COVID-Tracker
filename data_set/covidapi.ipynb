{
 "cells": [
  {
   "cell_type": "code",
   "execution_count": 4,
   "source": [
    "import requests\r\n",
    "import json\r\n",
    "import pandas as pd\r\n",
    "\r\n",
    "# POST to API\r\n",
    "payload = {'code': 'ALL'} # or {'code': 'DE'}\r\n",
    "URL = 'https://api.statworx.com/covid'\r\n",
    "response = requests.post(url=URL, data=json.dumps(payload)) #dumps convert python object into string\r\n",
    "\r\n",
    "# Convert to data frame\r\n",
    "df = pd.DataFrame.from_dict(json.loads(response.text)) #loads used to parse a valid JSON string and convert it into a Python Dictionary.\r\n",
    "print(df.head())"
   ],
   "outputs": [
    {
     "output_type": "stream",
     "name": "stdout",
     "text": [
      "         date day month  year  cases  deaths      country code  population  \\\n",
      "0  2019-12-31  31    12  2019      0       0  Afghanistan   AF  38041757.0   \n",
      "1  2020-01-01  01    01  2020      0       0  Afghanistan   AF  38041757.0   \n",
      "2  2020-01-02  02    01  2020      0       0  Afghanistan   AF  38041757.0   \n",
      "3  2020-01-03  03    01  2020      0       0  Afghanistan   AF  38041757.0   \n",
      "4  2020-01-04  04    01  2020      0       0  Afghanistan   AF  38041757.0   \n",
      "\n",
      "  continent  cases_cum  deaths_cum  \n",
      "0      Asia          0           0  \n",
      "1      Asia          0           0  \n",
      "2      Asia          0           0  \n",
      "3      Asia          0           0  \n",
      "4      Asia          0           0  \n"
     ]
    }
   ],
   "metadata": {}
  }
 ],
 "metadata": {
  "orig_nbformat": 4,
  "language_info": {
   "name": "python",
   "version": "3.9.5",
   "mimetype": "text/x-python",
   "codemirror_mode": {
    "name": "ipython",
    "version": 3
   },
   "pygments_lexer": "ipython3",
   "nbconvert_exporter": "python",
   "file_extension": ".py"
  },
  "kernelspec": {
   "name": "python3",
   "display_name": "Python 3.9.5 64-bit"
  },
  "interpreter": {
   "hash": "9bb202ab933488e2c896d83b69c17805b7bfafa69657c445e6b48efb3750f8f0"
  }
 },
 "nbformat": 4,
 "nbformat_minor": 2
}